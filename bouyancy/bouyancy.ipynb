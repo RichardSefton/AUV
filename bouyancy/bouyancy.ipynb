{
 "cells": [
  {
   "cell_type": "markdown",
   "metadata": {},
   "source": [
    "# Bouyancy calculator. \n",
    "\n",
    "From https://study.com/skill/learn/how-to-calculate-the-buoyant-force-of-a-floating-object-explanation.html we have the steps to calculate this and the formula required. \n",
    "\n",
    "\n",
    "1. Identify the density of the fluid. \n",
    "2. Determine the volume of the fluid displaced by the object.\n",
    "3. Plud the answers from step 1 and 2 into the equation $Fb = pVg$\n",
    "\n",
    "Step 1 is easy. Its water. A quick google will tell us the density of water. This will apparently be $p$. Multiple sources from page 1 of google corroborate its $998kg/m^{3}$\n",
    "\n",
    "Step 2. We need to calculate the volume of the AUV that will be displaced by the water. This is a challenge because of the complex shape. But if we can get something from the CAD designs we might be able to use this? Or we can use the weight and the density of the filament.\n",
    "\n",
    "https://all3dp.com/2/pla-density-what-s-the-density-of-pla-filament-plastic/ suggests that from most manufacururs the density is $1.24g/cm^{3}$ which is $1240kg/m^{3}$. So all we need is the overall weight of the AUV and we can approximate. This is $V$\n",
    "\n",
    "Density calculations doesn't factor in the fact the AUV is hollow. Fusion gives the Volume as $7.620E+06mm^{3}$. Factor in the fact parts are printed with 15% infill this is $7.620E+06 \\times 0.15 = 1.143E+06mm^{3}$. But we want this in kg/m^{3} so this would be $0.001143$ \n",
    "\n",
    "Step 3 is simply calculating the bouyancy using the formula. The $g$ in the formula is the gravitational acceleration (a known constant of 9.8) "
   ]
  },
  {
   "cell_type": "code",
   "execution_count": 26,
   "metadata": {},
   "outputs": [
    {
     "name": "stdout",
     "output_type": "stream",
     "text": [
      "Bouyancy force is:  74.676 N\n"
     ]
    }
   ],
   "source": [
    "water_density = 1000\n",
    "\n",
    "#Mass is weight of myself holding the AUV - weight of the AUV. Not the most accurate but its all I have to hand\n",
    "auv_mass = 100.7 - 96.7\n",
    "auv_volume = 0.001143\n",
    "displacement_volume = 0.00762\n",
    "gravitational_acceleration = 9.8\n",
    "auv_weight = auv_mass * gravitational_acceleration\n",
    "\n",
    "bouyancy_force = water_density * displacement_volume * gravitational_acceleration\n",
    "print(\"Bouyancy force is: \", bouyancy_force, \"N\")"
   ]
  },
  {
   "cell_type": "markdown",
   "metadata": {},
   "source": [
    "https://courses.lumenlearning.com/suny-osuniversityphysics/chapter/14-4-archimedes-principle-and-buoyancy/\n",
    "\n",
    "Archimedes principle dictates if an object will sink or float. If the bouyant force is greater than the objects weight it will float. Otherwise the object will sink. "
   ]
  },
  {
   "cell_type": "code",
   "execution_count": 27,
   "metadata": {},
   "outputs": [
    {
     "name": "stdout",
     "output_type": "stream",
     "text": [
      "74.676\n",
      "39.2\n",
      "The AUV will float\n"
     ]
    }
   ],
   "source": [
    "#We should have both the boyant force and the weight of the auv\n",
    "print(bouyancy_force)\n",
    "print(auv_weight)\n",
    "\n",
    "if bouyancy_force > auv_weight:\n",
    "    print(\"The AUV will float\")\n",
    "else:\n",
    "    print(\"The AUV will sink\")\n",
    "\n"
   ]
  },
  {
   "cell_type": "markdown",
   "metadata": {},
   "source": [
    "So we want a bouyant force of 0.1N. \n",
    "\n",
    "We should take this off the bouyant force"
   ]
  },
  {
   "cell_type": "code",
   "execution_count": 29,
   "metadata": {},
   "outputs": [
    {
     "name": "stdout",
     "output_type": "stream",
     "text": [
      "The required bouyant force is:  74.57600000000001 N\n"
     ]
    }
   ],
   "source": [
    "req_bouyant_force = bouyancy_force - 0.1\n",
    "\n",
    "print(\"The required bouyant force is: \", req_bouyant_force, \"N\")"
   ]
  },
  {
   "cell_type": "markdown",
   "metadata": {},
   "source": [
    "So 74.576 is the target. We should convert this to a mass. Then we can subtract the Mass of the AUV (~4kg).\n",
    "\n",
    "If weight is mass * grativation acceleration then the mass is the opposite of this."
   ]
  },
  {
   "cell_type": "code",
   "execution_count": 30,
   "metadata": {},
   "outputs": [
    {
     "name": "stdout",
     "output_type": "stream",
     "text": [
      "Target mass is:  7.609795918367348 kg\n"
     ]
    }
   ],
   "source": [
    "target_mass = req_bouyant_force / gravitational_acceleration\n",
    "\n",
    "print(\"Target mass is: \", target_mass, \"kg\")"
   ]
  },
  {
   "cell_type": "markdown",
   "metadata": {},
   "source": [
    "Target mass is 7.61kg (2dp). \n",
    "\n",
    "Take of our AUV mass and we have the required ballast. "
   ]
  },
  {
   "cell_type": "code",
   "execution_count": 31,
   "metadata": {},
   "outputs": [
    {
     "name": "stdout",
     "output_type": "stream",
     "text": [
      "Ballast required is:  3.6097959183673476 kg\n"
     ]
    }
   ],
   "source": [
    "ballast_required = target_mass - auv_mass\n",
    "\n",
    "print(\"Ballast required is: \", ballast_required, \"kg\")"
   ]
  }
 ],
 "metadata": {
  "language_info": {
   "name": "python"
  }
 },
 "nbformat": 4,
 "nbformat_minor": 2
}
